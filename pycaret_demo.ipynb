{
 "cells": [
  {
   "cell_type": "code",
   "execution_count": 1,
   "metadata": {},
   "outputs": [
    {
     "name": "stdout",
     "output_type": "stream",
     "text": [
      "Note: you may need to restart the kernel to use updated packages.\n"
     ]
    }
   ],
   "source": [
    "%pip install --pre pycaret -q"
   ]
  },
  {
   "cell_type": "code",
   "execution_count": 2,
   "metadata": {},
   "outputs": [],
   "source": [
    "import pandas as pd \n",
    "import numpy as np"
   ]
  },
  {
   "cell_type": "code",
   "execution_count": 3,
   "metadata": {},
   "outputs": [],
   "source": [
    "data=pd.read_csv(\"/config/workspace/hypothyroid_cleaned.csv\")"
   ]
  },
  {
   "cell_type": "code",
   "execution_count": 4,
   "metadata": {},
   "outputs": [
    {
     "data": {
      "text/html": [
       "<style type=\"text/css\">\n",
       "#T_1af00_row12_col1 {\n",
       "  background-color: lightgreen;\n",
       "}\n",
       "</style>\n",
       "<table id=\"T_1af00\">\n",
       "  <thead>\n",
       "    <tr>\n",
       "      <th class=\"blank level0\" >&nbsp;</th>\n",
       "      <th id=\"T_1af00_level0_col0\" class=\"col_heading level0 col0\" >Description</th>\n",
       "      <th id=\"T_1af00_level0_col1\" class=\"col_heading level0 col1\" >Value</th>\n",
       "    </tr>\n",
       "  </thead>\n",
       "  <tbody>\n",
       "    <tr>\n",
       "      <th id=\"T_1af00_level0_row0\" class=\"row_heading level0 row0\" >0</th>\n",
       "      <td id=\"T_1af00_row0_col0\" class=\"data row0 col0\" >Session id</td>\n",
       "      <td id=\"T_1af00_row0_col1\" class=\"data row0 col1\" >3532</td>\n",
       "    </tr>\n",
       "    <tr>\n",
       "      <th id=\"T_1af00_level0_row1\" class=\"row_heading level0 row1\" >1</th>\n",
       "      <td id=\"T_1af00_row1_col0\" class=\"data row1 col0\" >Target</td>\n",
       "      <td id=\"T_1af00_row1_col1\" class=\"data row1 col1\" >Class</td>\n",
       "    </tr>\n",
       "    <tr>\n",
       "      <th id=\"T_1af00_level0_row2\" class=\"row_heading level0 row2\" >2</th>\n",
       "      <td id=\"T_1af00_row2_col0\" class=\"data row2 col0\" >Target type</td>\n",
       "      <td id=\"T_1af00_row2_col1\" class=\"data row2 col1\" >Multiclass</td>\n",
       "    </tr>\n",
       "    <tr>\n",
       "      <th id=\"T_1af00_level0_row3\" class=\"row_heading level0 row3\" >3</th>\n",
       "      <td id=\"T_1af00_row3_col0\" class=\"data row3 col0\" >Target mapping</td>\n",
       "      <td id=\"T_1af00_row3_col1\" class=\"data row3 col1\" >compensated_hypothyroid: 0, negative: 1, primary_hypothyroid: 2, secondary_hypothyroid: 3</td>\n",
       "    </tr>\n",
       "    <tr>\n",
       "      <th id=\"T_1af00_level0_row4\" class=\"row_heading level0 row4\" >4</th>\n",
       "      <td id=\"T_1af00_row4_col0\" class=\"data row4 col0\" >Original data shape</td>\n",
       "      <td id=\"T_1af00_row4_col1\" class=\"data row4 col1\" >(3620, 23)</td>\n",
       "    </tr>\n",
       "    <tr>\n",
       "      <th id=\"T_1af00_level0_row5\" class=\"row_heading level0 row5\" >5</th>\n",
       "      <td id=\"T_1af00_row5_col0\" class=\"data row5 col0\" >Transformed data shape</td>\n",
       "      <td id=\"T_1af00_row5_col1\" class=\"data row5 col1\" >(3620, 27)</td>\n",
       "    </tr>\n",
       "    <tr>\n",
       "      <th id=\"T_1af00_level0_row6\" class=\"row_heading level0 row6\" >6</th>\n",
       "      <td id=\"T_1af00_row6_col0\" class=\"data row6 col0\" >Transformed train set shape</td>\n",
       "      <td id=\"T_1af00_row6_col1\" class=\"data row6 col1\" >(2534, 27)</td>\n",
       "    </tr>\n",
       "    <tr>\n",
       "      <th id=\"T_1af00_level0_row7\" class=\"row_heading level0 row7\" >7</th>\n",
       "      <td id=\"T_1af00_row7_col0\" class=\"data row7 col0\" >Transformed test set shape</td>\n",
       "      <td id=\"T_1af00_row7_col1\" class=\"data row7 col1\" >(1086, 27)</td>\n",
       "    </tr>\n",
       "    <tr>\n",
       "      <th id=\"T_1af00_level0_row8\" class=\"row_heading level0 row8\" >8</th>\n",
       "      <td id=\"T_1af00_row8_col0\" class=\"data row8 col0\" >Ordinal features</td>\n",
       "      <td id=\"T_1af00_row8_col1\" class=\"data row8 col1\" >15</td>\n",
       "    </tr>\n",
       "    <tr>\n",
       "      <th id=\"T_1af00_level0_row9\" class=\"row_heading level0 row9\" >9</th>\n",
       "      <td id=\"T_1af00_row9_col0\" class=\"data row9 col0\" >Numeric features</td>\n",
       "      <td id=\"T_1af00_row9_col1\" class=\"data row9 col1\" >6</td>\n",
       "    </tr>\n",
       "    <tr>\n",
       "      <th id=\"T_1af00_level0_row10\" class=\"row_heading level0 row10\" >10</th>\n",
       "      <td id=\"T_1af00_row10_col0\" class=\"data row10 col0\" >Categorical features</td>\n",
       "      <td id=\"T_1af00_row10_col1\" class=\"data row10 col1\" >16</td>\n",
       "    </tr>\n",
       "    <tr>\n",
       "      <th id=\"T_1af00_level0_row11\" class=\"row_heading level0 row11\" >11</th>\n",
       "      <td id=\"T_1af00_row11_col0\" class=\"data row11 col0\" >Rows with missing values</td>\n",
       "      <td id=\"T_1af00_row11_col1\" class=\"data row11 col1\" >25.4%</td>\n",
       "    </tr>\n",
       "    <tr>\n",
       "      <th id=\"T_1af00_level0_row12\" class=\"row_heading level0 row12\" >12</th>\n",
       "      <td id=\"T_1af00_row12_col0\" class=\"data row12 col0\" >Preprocess</td>\n",
       "      <td id=\"T_1af00_row12_col1\" class=\"data row12 col1\" >True</td>\n",
       "    </tr>\n",
       "    <tr>\n",
       "      <th id=\"T_1af00_level0_row13\" class=\"row_heading level0 row13\" >13</th>\n",
       "      <td id=\"T_1af00_row13_col0\" class=\"data row13 col0\" >Imputation type</td>\n",
       "      <td id=\"T_1af00_row13_col1\" class=\"data row13 col1\" >simple</td>\n",
       "    </tr>\n",
       "    <tr>\n",
       "      <th id=\"T_1af00_level0_row14\" class=\"row_heading level0 row14\" >14</th>\n",
       "      <td id=\"T_1af00_row14_col0\" class=\"data row14 col0\" >Numeric imputation</td>\n",
       "      <td id=\"T_1af00_row14_col1\" class=\"data row14 col1\" >mean</td>\n",
       "    </tr>\n",
       "    <tr>\n",
       "      <th id=\"T_1af00_level0_row15\" class=\"row_heading level0 row15\" >15</th>\n",
       "      <td id=\"T_1af00_row15_col0\" class=\"data row15 col0\" >Categorical imputation</td>\n",
       "      <td id=\"T_1af00_row15_col1\" class=\"data row15 col1\" >mode</td>\n",
       "    </tr>\n",
       "    <tr>\n",
       "      <th id=\"T_1af00_level0_row16\" class=\"row_heading level0 row16\" >16</th>\n",
       "      <td id=\"T_1af00_row16_col0\" class=\"data row16 col0\" >Maximum one-hot encoding</td>\n",
       "      <td id=\"T_1af00_row16_col1\" class=\"data row16 col1\" >25</td>\n",
       "    </tr>\n",
       "    <tr>\n",
       "      <th id=\"T_1af00_level0_row17\" class=\"row_heading level0 row17\" >17</th>\n",
       "      <td id=\"T_1af00_row17_col0\" class=\"data row17 col0\" >Encoding method</td>\n",
       "      <td id=\"T_1af00_row17_col1\" class=\"data row17 col1\" >None</td>\n",
       "    </tr>\n",
       "    <tr>\n",
       "      <th id=\"T_1af00_level0_row18\" class=\"row_heading level0 row18\" >18</th>\n",
       "      <td id=\"T_1af00_row18_col0\" class=\"data row18 col0\" >Fold Generator</td>\n",
       "      <td id=\"T_1af00_row18_col1\" class=\"data row18 col1\" >StratifiedKFold</td>\n",
       "    </tr>\n",
       "    <tr>\n",
       "      <th id=\"T_1af00_level0_row19\" class=\"row_heading level0 row19\" >19</th>\n",
       "      <td id=\"T_1af00_row19_col0\" class=\"data row19 col0\" >Fold Number</td>\n",
       "      <td id=\"T_1af00_row19_col1\" class=\"data row19 col1\" >10</td>\n",
       "    </tr>\n",
       "    <tr>\n",
       "      <th id=\"T_1af00_level0_row20\" class=\"row_heading level0 row20\" >20</th>\n",
       "      <td id=\"T_1af00_row20_col0\" class=\"data row20 col0\" >CPU Jobs</td>\n",
       "      <td id=\"T_1af00_row20_col1\" class=\"data row20 col1\" >-1</td>\n",
       "    </tr>\n",
       "    <tr>\n",
       "      <th id=\"T_1af00_level0_row21\" class=\"row_heading level0 row21\" >21</th>\n",
       "      <td id=\"T_1af00_row21_col0\" class=\"data row21 col0\" >Use GPU</td>\n",
       "      <td id=\"T_1af00_row21_col1\" class=\"data row21 col1\" >False</td>\n",
       "    </tr>\n",
       "    <tr>\n",
       "      <th id=\"T_1af00_level0_row22\" class=\"row_heading level0 row22\" >22</th>\n",
       "      <td id=\"T_1af00_row22_col0\" class=\"data row22 col0\" >Log Experiment</td>\n",
       "      <td id=\"T_1af00_row22_col1\" class=\"data row22 col1\" >False</td>\n",
       "    </tr>\n",
       "    <tr>\n",
       "      <th id=\"T_1af00_level0_row23\" class=\"row_heading level0 row23\" >23</th>\n",
       "      <td id=\"T_1af00_row23_col0\" class=\"data row23 col0\" >Experiment Name</td>\n",
       "      <td id=\"T_1af00_row23_col1\" class=\"data row23 col1\" >clf-default-name</td>\n",
       "    </tr>\n",
       "    <tr>\n",
       "      <th id=\"T_1af00_level0_row24\" class=\"row_heading level0 row24\" >24</th>\n",
       "      <td id=\"T_1af00_row24_col0\" class=\"data row24 col0\" >USI</td>\n",
       "      <td id=\"T_1af00_row24_col1\" class=\"data row24 col1\" >b227</td>\n",
       "    </tr>\n",
       "  </tbody>\n",
       "</table>\n"
      ],
      "text/plain": [
       "<pandas.io.formats.style.Styler at 0x7f2296c19f70>"
      ]
     },
     "metadata": {},
     "output_type": "display_data"
    }
   ],
   "source": [
    "from pycaret.classification import *\n",
    "s = setup(data, target = \"Class\")"
   ]
  },
  {
   "cell_type": "code",
   "execution_count": null,
   "metadata": {},
   "outputs": [],
   "source": [
    "best = compare_models()"
   ]
  }
 ],
 "metadata": {
  "kernelspec": {
   "display_name": "Python 3.8.10 64-bit",
   "language": "python",
   "name": "python3"
  },
  "language_info": {
   "codemirror_mode": {
    "name": "ipython",
    "version": 3
   },
   "file_extension": ".py",
   "mimetype": "text/x-python",
   "name": "python",
   "nbconvert_exporter": "python",
   "pygments_lexer": "ipython3",
   "version": "3.8.10"
  },
  "orig_nbformat": 4,
  "vscode": {
   "interpreter": {
    "hash": "e7370f93d1d0cde622a1f8e1c04877d8463912d04d973331ad4851f04de6915a"
   }
  }
 },
 "nbformat": 4,
 "nbformat_minor": 2
}
